{
 "cells": [
  {
   "cell_type": "markdown",
   "id": "60461e61",
   "metadata": {},
   "source": [
    "# Utils "
   ]
  },
  {
   "cell_type": "code",
   "execution_count": 13,
   "id": "00edb0d1",
   "metadata": {
    "ExecuteTime": {
     "end_time": "2022-11-14T11:23:07.334642Z",
     "start_time": "2022-11-14T11:23:07.327910Z"
    }
   },
   "outputs": [],
   "source": [
    "from transformers import RobertaTokenizer, RobertaConfig, RobertaModel\n",
    "import torch \n",
    "def count_parameters(model):\n",
    "    return sum(p.numel() for p in model.parameters() if p.requires_grad)\n",
    "\n",
    "import torch.nn as nn"
   ]
  },
  {
   "cell_type": "code",
   "execution_count": null,
   "id": "124817b5",
   "metadata": {
    "ExecuteTime": {
     "end_time": "2022-11-14T11:11:50.013623Z",
     "start_time": "2022-11-14T11:11:50.004963Z"
    }
   },
   "outputs": [],
   "source": []
  },
  {
   "cell_type": "markdown",
   "id": "1829039f",
   "metadata": {},
   "source": [
    "## Parameters"
   ]
  },
  {
   "cell_type": "code",
   "execution_count": 14,
   "id": "f0efe968",
   "metadata": {
    "ExecuteTime": {
     "end_time": "2022-11-14T11:23:07.351014Z",
     "start_time": "2022-11-14T11:23:07.338229Z"
    }
   },
   "outputs": [],
   "source": [
    "def count_parameter():\n",
    "    model_name_or_path=\"microsoft/unixcoder-base\"\n",
    "    unixcoder_model = RobertaModel.from_pretrained(model_name_or_path, output_attentions=True,output_hidden_states=True) \n",
    "    result[\"base\"] = {}\n",
    "    result[\"base\"][\"param\"] = round((count_parameters(unixcoder_model)+classifier_number)/ 1000000, 2)\n",
    "    for name, param in unixcoder_model.named_parameters():\n",
    "        if name.startswith(\"pooler.dense.\"): # choose whatever you like here\n",
    "            param.requires_grad = False\n",
    "\n",
    "    for name, param in unixcoder_model.named_parameters():\n",
    "        if name.startswith(\"embeddings\"): # choose whatever you like here\n",
    "            param.requires_grad = False\n",
    "    result[0]= {}\n",
    "    result[0][\"param\"] = round((count_parameters(unixcoder_model)+classifier_number)/ 1000000, 2)\n",
    "\n",
    "    for i in range(11):\n",
    "        for name, param in unixcoder_model.named_parameters():\n",
    "            if name.startswith(\"encoder.layer.%d.\"%i): # choose whatever you like here\n",
    "                param.requires_grad = False\n",
    "        result[i+1]= {}\n",
    "        result[i+1][\"param\"] = round((count_parameters(unixcoder_model)+classifier_number)/ 1000000, 2)"
   ]
  },
  {
   "cell_type": "code",
   "execution_count": 15,
   "id": "3d39a1c2",
   "metadata": {
    "ExecuteTime": {
     "end_time": "2022-11-14T11:23:07.362189Z",
     "start_time": "2022-11-14T11:23:07.353575Z"
    }
   },
   "outputs": [],
   "source": [
    "def count_parameter_change_ratio():\n",
    "    for key in result:\n",
    "        param_decrease_ratio = 1- result[key][\"param\"]/result[\"base\"][\"param\"]\n",
    "        result[key][\"param_decrease_ratio\"] = round(param_decrease_ratio*100,2)"
   ]
  },
  {
   "cell_type": "markdown",
   "id": "bb29c054",
   "metadata": {},
   "source": [
    "## Time Cost"
   ]
  },
  {
   "cell_type": "code",
   "execution_count": 16,
   "id": "e3dd5ffb",
   "metadata": {
    "ExecuteTime": {
     "end_time": "2022-11-14T11:23:07.380094Z",
     "start_time": "2022-11-14T11:23:07.365969Z"
    }
   },
   "outputs": [],
   "source": [
    "import json\n",
    "import os\n",
    "import numpy as np\n",
    "def read_json_file(filename):\n",
    "    with open(filename, 'r') as fp:\n",
    "        data = fp.readlines()\n",
    "    if len(data) == 1:\n",
    "        data = json.loads(data[0])\n",
    "    else:\n",
    "        data = [json.loads(line) for line in data]\n",
    "    return data\n",
    "def obtain_second(given_str):\n",
    "#     given_str='7m10s'\n",
    "    h,m,s= 0,0,0\n",
    "    if \"h\" in given_str:\n",
    "        h_split = given_str.split(\"h\")\n",
    "        h= int(h_split[0])\n",
    "        given_str = h_split[-1]\n",
    "    if \"m\" in given_str:\n",
    "        m_split = given_str.split(\"m\")\n",
    "        m= int(m_split[0])\n",
    "        given_str = m_split[-1]\n",
    "    if \"s\" in given_str:\n",
    "        s_split = given_str.split(\"s\")\n",
    "        s= int(s_split[0])\n",
    "    return 3600*h+60*m+s\n",
    "def time_format(seconds):\n",
    "    m, s = divmod(seconds, 60)\n",
    "    h, m = divmod(m, 60)\n",
    "    return \"%dh%02dm%02ds\" % (h, m, s)"
   ]
  },
  {
   "cell_type": "code",
   "execution_count": 17,
   "id": "2fa7d9e3",
   "metadata": {
    "ExecuteTime": {
     "end_time": "2022-11-14T11:23:07.392489Z",
     "start_time": "2022-11-14T11:23:07.382329Z"
    }
   },
   "outputs": [],
   "source": [
    "def process_data(data_dir):\n",
    "#     data_dir=\"../DownstreamTasks/clone-detection/times\"\n",
    "    filename=\"each_epoch.jsonl\"\n",
    "    times= read_json_file( os.path.join(data_dir,filename))\n",
    "    filename=\"coverage_epoch.jsonl\"\n",
    "    coverage_epoch =read_json_file( os.path.join(data_dir,filename))\n",
    "    for key in result:\n",
    "        result[key][\"each_epoch\"] = times[str(key)]\n",
    "        given_str = times[str(key)]\n",
    "        time_decrease_ratio = 1- obtain_second(result[key][\"each_epoch\"])/obtain_second(result[\"base\"][\"each_epoch\"])\n",
    "        result[key][\"each_epoch_decrease_ratio\"] = round( time_decrease_ratio*100,2)\n",
    "        result[key][\"coverage_epoch\"]= time_format( obtain_second(given_str)*coverage_epoch[str(key)] ) \n",
    "        time_decrease_ratio = 1- obtain_second(result[key][\"coverage_epoch\"])/obtain_second(result[\"base\"][\"coverage_epoch\"])\n",
    "        result[key][\"coverage_epoch_decrease_ratio\"] = round( time_decrease_ratio*100,2)"
   ]
  },
  {
   "cell_type": "code",
   "execution_count": null,
   "id": "1e3acb98",
   "metadata": {
    "ExecuteTime": {
     "end_time": "2022-11-14T10:34:39.922392Z",
     "start_time": "2022-11-14T10:34:37.916431Z"
    }
   },
   "outputs": [],
   "source": []
  },
  {
   "cell_type": "markdown",
   "id": "ea7eab7d",
   "metadata": {},
   "source": [
    "## Performance"
   ]
  },
  {
   "cell_type": "code",
   "execution_count": 18,
   "id": "189d32c0",
   "metadata": {
    "ExecuteTime": {
     "end_time": "2022-11-14T11:23:07.409568Z",
     "start_time": "2022-11-14T11:23:07.394796Z"
    }
   },
   "outputs": [],
   "source": [
    "def get_result(root_path, lang, filename):\n",
    "    if lang == None:\n",
    "        filename_lang_model_name = os.path.join(root_path, filename)\n",
    "    else:\n",
    "        filename_lang_model_name = os.path.join(root_path,lang, filename)\n",
    "#     print(filename_lang_model_name)\n",
    "    time_stamp = os.listdir(filename_lang_model_name)[0]\n",
    "    result_filename = os.path.join(filename_lang_model_name, time_stamp, \"result.jsonl\" )\n",
    "    data = read_json_file(result_filename)\n",
    "    return data\n",
    "\n",
    "def process_peformance(root_path,lang):\n",
    "#     lang=\"python\"\n",
    "#     root_path = \"../DownstreamTasks/clone-detection/saved_models/partial_freezing\"\n",
    "    diff_paramter_results = {}\n",
    "    diff_values = [-1,0,1,2,3,4,5,6,7,8,9,10,11]\n",
    "    if task == \"code-summarization\": \n",
    "        diff_values = [-1,0,1,2,3,4,5,6,7,8,9,10,11]\n",
    "        diff_paramter_result=read_json_file(os.path.join(root_path,lang,\"results.jsonl\"))\n",
    "        for value in diff_values  :\n",
    "            if value == -1:\n",
    "                value = \"base\"\n",
    "            diff_paramter_results [value] =  diff_paramter_result[str(value)]\n",
    "        print(diff_paramter_results)\n",
    "    else:\n",
    "        for value in diff_values  :\n",
    "            filename =  \"freeze_bottom_%d_layers\"%int(value)\n",
    "            diff_paramter_results [value] = get_result(root_path, lang, filename)\n",
    "        diff_paramter_results [\"base\"] = diff_paramter_results [-1]\n",
    "    for key in result:\n",
    "        result[key][\"performance\"] = diff_paramter_results[key]\n",
    "        result[key][\"performance_decrease_ratio\"] ={}\n",
    "        for metric in diff_paramter_results[key]:\n",
    "            performance_decrease_ratio = 1- result[key][\"performance\"][metric]/ result[\"base\"][\"performance\"][metric]\n",
    "            result[key][\"performance_decrease_ratio\"][metric] = round( performance_decrease_ratio*100,2)"
   ]
  },
  {
   "cell_type": "code",
   "execution_count": 19,
   "id": "48fb1b11",
   "metadata": {
    "ExecuteTime": {
     "end_time": "2022-11-14T11:23:07.421321Z",
     "start_time": "2022-11-14T11:23:07.411470Z"
    }
   },
   "outputs": [],
   "source": [
    "import pandas as pd\n",
    "#显示所有列\n",
    "pd.set_option('display.max_columns', None)\n",
    "#显示所有行\n",
    "pd.set_option('display.max_rows', None)\n",
    "#设置value的显示长度为100，默认为50\n",
    "pd.set_option('max_colwidth',100)"
   ]
  },
  {
   "cell_type": "markdown",
   "id": "cddb95da",
   "metadata": {},
   "source": [
    "# Downstream Tasks"
   ]
  },
  {
   "cell_type": "markdown",
   "id": "6ce836e6",
   "metadata": {},
   "source": [
    "## Code Search"
   ]
  },
  {
   "cell_type": "code",
   "execution_count": 20,
   "id": "93b1e7f0",
   "metadata": {
    "ExecuteTime": {
     "end_time": "2022-11-14T11:23:09.236863Z",
     "start_time": "2022-11-14T11:23:07.423316Z"
    }
   },
   "outputs": [
    {
     "name": "stdout",
     "output_type": "stream",
     "text": [
      "           Param  Ratio Each Epoch  Ratio  Coverage  Ratio  \\\n",
      "Base      125.93    0.0     17m14s    0.0  2h35m06s    0.0   \n",
      "Telly-0    85.05  32.46     15m49s   8.22  2h06m32s  18.42   \n",
      "Telly-1    77.97  38.08     14m53s  13.64  1h59m04s  23.23   \n",
      "Telly-2    70.88  43.71     14m06s  18.18  1h52m48s  27.27   \n",
      "Telly-3    63.79  49.34     13m12s   23.4  0h39m36s  74.47   \n",
      "Telly-4     56.7  54.97     12m12s  29.21  0h48m48s  68.54   \n",
      "Telly-5    49.62   60.6     11m42s  32.11  0h35m06s  77.37   \n",
      "Telly-6    42.53  66.23     10m50s  37.14  0h32m30s  79.05   \n",
      "Telly-7    35.44  71.86      9m57s  42.26  0h29m51s  80.75   \n",
      "Telly-8    28.35  77.49      9m04s  47.39  0h36m16s  76.62   \n",
      "Telly-9    21.26  83.12      8m14s  52.22  0h24m42s  84.07   \n",
      "Telly-10   14.18  88.74      7m10s  58.41  0h21m30s  86.14   \n",
      "Telly-11    7.09  94.37      6m21s  63.15  0h19m03s  87.72   \n",
      "\n",
      "                                                             Performance  \\\n",
      "Base       {'R@1': 0.612, 'R@5': 0.838, 'R@10': 0.889, 'eval_mrr': 0.72}   \n",
      "Telly-0    {'R@1': 0.63, 'R@5': 0.846, 'R@10': 0.895, 'eval_mrr': 0.727}   \n",
      "Telly-1   {'R@1': 0.629, 'R@5': 0.848, 'R@10': 0.895, 'eval_mrr': 0.727}   \n",
      "Telly-2    {'R@1': 0.63, 'R@5': 0.849, 'R@10': 0.896, 'eval_mrr': 0.727}   \n",
      "Telly-3   {'R@1': 0.626, 'R@5': 0.842, 'R@10': 0.895, 'eval_mrr': 0.724}   \n",
      "Telly-4   {'R@1': 0.626, 'R@5': 0.844, 'R@10': 0.896, 'eval_mrr': 0.724}   \n",
      "Telly-5   {'R@1': 0.628, 'R@5': 0.848, 'R@10': 0.896, 'eval_mrr': 0.726}   \n",
      "Telly-6   {'R@1': 0.629, 'R@5': 0.848, 'R@10': 0.896, 'eval_mrr': 0.727}   \n",
      "Telly-7   {'R@1': 0.627, 'R@5': 0.847, 'R@10': 0.896, 'eval_mrr': 0.725}   \n",
      "Telly-8   {'R@1': 0.625, 'R@5': 0.844, 'R@10': 0.894, 'eval_mrr': 0.723}   \n",
      "Telly-9    {'R@1': 0.62, 'R@5': 0.838, 'R@10': 0.888, 'eval_mrr': 0.718}   \n",
      "Telly-10   {'R@1': 0.612, 'R@5': 0.829, 'R@10': 0.882, 'eval_mrr': 0.71}   \n",
      "Telly-11   {'R@1': 0.589, 'R@5': 0.811, 'R@10': 0.867, 'eval_mrr': 0.69}   \n",
      "\n",
      "                                                                   Ratio  \n",
      "Base              {'R@1': 0.0, 'R@5': 0.0, 'R@10': 0.0, 'eval_mrr': 0.0}  \n",
      "Telly-0   {'R@1': -2.94, 'R@5': -0.95, 'R@10': -0.67, 'eval_mrr': -0.97}  \n",
      "Telly-1   {'R@1': -2.78, 'R@5': -1.19, 'R@10': -0.67, 'eval_mrr': -0.97}  \n",
      "Telly-2   {'R@1': -2.94, 'R@5': -1.31, 'R@10': -0.79, 'eval_mrr': -0.97}  \n",
      "Telly-3   {'R@1': -2.29, 'R@5': -0.48, 'R@10': -0.67, 'eval_mrr': -0.56}  \n",
      "Telly-4   {'R@1': -2.29, 'R@5': -0.72, 'R@10': -0.79, 'eval_mrr': -0.56}  \n",
      "Telly-5   {'R@1': -2.61, 'R@5': -1.19, 'R@10': -0.79, 'eval_mrr': -0.83}  \n",
      "Telly-6   {'R@1': -2.78, 'R@5': -1.19, 'R@10': -0.79, 'eval_mrr': -0.97}  \n",
      "Telly-7   {'R@1': -2.45, 'R@5': -1.07, 'R@10': -0.79, 'eval_mrr': -0.69}  \n",
      "Telly-8   {'R@1': -2.12, 'R@5': -0.72, 'R@10': -0.56, 'eval_mrr': -0.42}  \n",
      "Telly-9       {'R@1': -1.31, 'R@5': 0.0, 'R@10': 0.11, 'eval_mrr': 0.28}  \n",
      "Telly-10       {'R@1': 0.0, 'R@5': 1.07, 'R@10': 0.79, 'eval_mrr': 1.39}  \n",
      "Telly-11      {'R@1': 3.76, 'R@5': 3.22, 'R@10': 2.47, 'eval_mrr': 4.17}  \n"
     ]
    }
   ],
   "source": [
    "\n",
    "classifier_number = 0\n",
    "task = \"code-search\"\n",
    "result ={}\n",
    "count_parameter()\n",
    "count_parameter_change_ratio()\n",
    "data_dir=\"../DownstreamTasks/%s/times\"%task\n",
    "process_data(data_dir)\n",
    "lang=\"python\"\n",
    "root_path = \"../DownstreamTasks/%s/saved_models/partial_freezing\"%task\n",
    "process_peformance(root_path,lang)\n",
    "result_df = pd.DataFrame(result).T\n",
    "result_df.columns = ['Param', 'Ratio', 'Each Epoch', 'Ratio', 'Coverage','Ratio', 'Performance', 'Ratio']\n",
    "model_variants =[\"Telly-%s\"%item for item in result.keys()]\n",
    "model_variants[0] = \"Base\"\n",
    "result_df.index= model_variants\n",
    "print(result_df)"
   ]
  },
  {
   "cell_type": "markdown",
   "id": "01b3fe38",
   "metadata": {},
   "source": [
    "## Code Clone"
   ]
  },
  {
   "cell_type": "code",
   "execution_count": 21,
   "id": "7b5d5854",
   "metadata": {
    "ExecuteTime": {
     "end_time": "2022-11-14T11:23:10.954427Z",
     "start_time": "2022-11-14T11:23:09.238511Z"
    }
   },
   "outputs": [
    {
     "name": "stdout",
     "output_type": "stream",
     "text": [
      "           Param  Ratio Each Epoch  Ratio  Coverage  Ratio  \\\n",
      "Base      127.11    0.0     20m21s    0.0  1h41m45s    0.0   \n",
      "Telly-0    86.24  32.15     19m29s   4.26  1h17m56s  23.41   \n",
      "Telly-1    79.15  37.73     18m36s    8.6  1h14m24s  26.88   \n",
      "Telly-2    72.06  43.31     17m34s  13.68  1h10m16s  30.94   \n",
      "Telly-3    64.97  48.89     15m20s  24.65  1h01m20s  39.72   \n",
      "Telly-4    57.88  54.46     14m28s  28.91  0h57m52s  43.13   \n",
      "Telly-5     50.8  60.03     13m25s  34.07  1h07m05s  34.07   \n",
      "Telly-6    43.71  65.61     12m35s  38.17  0h50m20s  50.53   \n",
      "Telly-7    36.62  71.19     11m44s  42.34  0h58m40s  42.34   \n",
      "Telly-8    29.53  76.77     10m41s   47.5  0h53m25s   47.5   \n",
      "Telly-9    22.45  82.34      9m55s  51.27  0h29m45s  70.76   \n",
      "Telly-10   15.36  87.92      8m51s  56.51  0h35m24s  65.21   \n",
      "Telly-11    8.27  93.49      8m00s  60.69  0h32m00s  68.55   \n",
      "\n",
      "                                                             Performance  \\\n",
      "Base      {'eval_recall': 0.95, 'eval_precision': 0.95, 'eval_f1': 0.95}   \n",
      "Telly-0   {'eval_recall': 0.96, 'eval_precision': 0.94, 'eval_f1': 0.95}   \n",
      "Telly-1   {'eval_recall': 0.95, 'eval_precision': 0.95, 'eval_f1': 0.95}   \n",
      "Telly-2   {'eval_recall': 0.95, 'eval_precision': 0.95, 'eval_f1': 0.95}   \n",
      "Telly-3   {'eval_recall': 0.95, 'eval_precision': 0.95, 'eval_f1': 0.95}   \n",
      "Telly-4   {'eval_recall': 0.94, 'eval_precision': 0.96, 'eval_f1': 0.95}   \n",
      "Telly-5   {'eval_recall': 0.96, 'eval_precision': 0.94, 'eval_f1': 0.95}   \n",
      "Telly-6   {'eval_recall': 0.96, 'eval_precision': 0.95, 'eval_f1': 0.95}   \n",
      "Telly-7   {'eval_recall': 0.95, 'eval_precision': 0.93, 'eval_f1': 0.94}   \n",
      "Telly-8   {'eval_recall': 0.95, 'eval_precision': 0.94, 'eval_f1': 0.95}   \n",
      "Telly-9   {'eval_recall': 0.95, 'eval_precision': 0.92, 'eval_f1': 0.93}   \n",
      "Telly-10  {'eval_recall': 0.97, 'eval_precision': 0.92, 'eval_f1': 0.94}   \n",
      "Telly-11  {'eval_recall': 0.96, 'eval_precision': 0.92, 'eval_f1': 0.94}   \n",
      "\n",
      "                                                                    Ratio  \n",
      "Base          {'eval_recall': 0.0, 'eval_precision': 0.0, 'eval_f1': 0.0}  \n",
      "Telly-0    {'eval_recall': -1.05, 'eval_precision': 1.05, 'eval_f1': 0.0}  \n",
      "Telly-1       {'eval_recall': 0.0, 'eval_precision': 0.0, 'eval_f1': 0.0}  \n",
      "Telly-2       {'eval_recall': 0.0, 'eval_precision': 0.0, 'eval_f1': 0.0}  \n",
      "Telly-3       {'eval_recall': 0.0, 'eval_precision': 0.0, 'eval_f1': 0.0}  \n",
      "Telly-4    {'eval_recall': 1.05, 'eval_precision': -1.05, 'eval_f1': 0.0}  \n",
      "Telly-5    {'eval_recall': -1.05, 'eval_precision': 1.05, 'eval_f1': 0.0}  \n",
      "Telly-6     {'eval_recall': -1.05, 'eval_precision': 0.0, 'eval_f1': 0.0}  \n",
      "Telly-7     {'eval_recall': 0.0, 'eval_precision': 2.11, 'eval_f1': 1.05}  \n",
      "Telly-8      {'eval_recall': 0.0, 'eval_precision': 1.05, 'eval_f1': 0.0}  \n",
      "Telly-9     {'eval_recall': 0.0, 'eval_precision': 3.16, 'eval_f1': 2.11}  \n",
      "Telly-10  {'eval_recall': -2.11, 'eval_precision': 3.16, 'eval_f1': 1.05}  \n",
      "Telly-11  {'eval_recall': -1.05, 'eval_precision': 3.16, 'eval_f1': 1.05}  \n"
     ]
    }
   ],
   "source": [
    "class RobertaClassificationHead(nn.Module):\n",
    "    \"\"\"Head for sentence-level classification tasks.\"\"\"\n",
    "\n",
    "    def __init__(self):\n",
    "        super().__init__()\n",
    "        hidden_size= 768\n",
    "        self.dense = nn.Linear(hidden_size*2, hidden_size)\n",
    "        self.dropout = nn.Dropout(0.1)\n",
    "        self.out_proj = nn.Linear(hidden_size, 2)\n",
    "\n",
    "    def forward(self, x):\n",
    "        x = x.reshape(-1,x.size(-1)*2)\n",
    "        x = self.dropout(x)\n",
    "        x = self.dense(x)\n",
    "        x = torch.tanh(x)\n",
    "        x = self.dropout(x)\n",
    "        x = self.out_proj(x)\n",
    "        return x\n",
    "classifier = RobertaClassificationHead()\n",
    "classifier_number = count_parameters(classifier )\n",
    "result ={}\n",
    "count_parameter()\n",
    "count_parameter_change_ratio()\n",
    "data_dir=\"../DownstreamTasks/clone-detection/times\"\n",
    "process_data(data_dir)\n",
    "lang=None\n",
    "root_path = \"../DownstreamTasks/clone-detection/saved_models/partial_freezing\"\n",
    "process_peformance(root_path,lang)\n",
    "result_df = pd.DataFrame(result).T\n",
    "result_df.columns = ['Param', 'Ratio', 'Each Epoch', 'Ratio', 'Coverage','Ratio', 'Performance', 'Ratio']\n",
    "model_variants =[\"Telly-%s\"%item for item in result.keys()]\n",
    "model_variants[0] = \"Base\"\n",
    "result_df.index= model_variants\n",
    "print(result_df)"
   ]
  },
  {
   "cell_type": "markdown",
   "id": "53aee83e",
   "metadata": {},
   "source": [
    "## Code Summarization"
   ]
  },
  {
   "cell_type": "code",
   "execution_count": 22,
   "id": "6878131a",
   "metadata": {
    "ExecuteTime": {
     "end_time": "2022-11-14T11:23:12.542450Z",
     "start_time": "2022-11-14T11:23:10.956417Z"
    }
   },
   "outputs": [
    {
     "name": "stdout",
     "output_type": "stream",
     "text": [
      "{'base': {'bleu': 19.15, 'meteor': 17.26, 'rouge': 41.51, 'cider': 1.54}, 0: {'meteor': 17.32, 'rouge': 41.5, 'cider': 1.53, 'bleu': 19.19}, 1: {'meteor': 17.33, 'rouge': 41.57, 'cider': 1.54, 'bleu': 19.21}, 2: {'meteor': 17.3, 'rouge': 41.51, 'cider': 1.54, 'bleu': 19.17}, 3: {'meteor': 17.26, 'rouge': 41.5, 'cider': 1.54, 'bleu': 19.16}, 4: {'meteor': 17.26, 'rouge': 41.53, 'cider': 1.54, 'bleu': 19.13}, 5: {'meteor': 17.26, 'rouge': 41.55, 'cider': 1.54, 'bleu': 19.18}, 6: {'meteor': 17.35, 'rouge': 41.78, 'cider': 1.56, 'bleu': 19.36}, 7: {'meteor': 17.28, 'rouge': 41.74, 'cider': 1.56, 'bleu': 19.37}, 8: {'meteor': 17.26, 'rouge': 41.69, 'cider': 1.55, 'bleu': 19.34}, 9: {'meteor': 17.22, 'rouge': 41.33, 'cider': 1.53, 'bleu': 19.18}, 10: {'meteor': 17.18, 'rouge': 41.23, 'cider': 1.53, 'bleu': 19.11}, 11: {'meteor': 17.2, 'rouge': 41.27, 'cider': 1.53, 'bleu': 19.1}}\n",
      "           Param  Ratio Each Epoch  Ratio  Coverage  Ratio  \\\n",
      "Base      125.93    0.0     22m44s    0.0  1h53m40s    0.0   \n",
      "Telly-0    85.05  32.46     21m30s   5.43  1h47m30s   5.43   \n",
      "Telly-1    77.97  38.08     20m15s  10.92  1h41m15s  10.92   \n",
      "Telly-2    70.88  43.71     19m11s  15.62  1h35m55s  15.62   \n",
      "Telly-3    63.79  49.34     17m59s  20.89  0h53m57s  52.54   \n",
      "Telly-4     56.7  54.97     17m07s  24.71  0h51m21s  54.82   \n",
      "Telly-5    49.62   60.6     16m18s   28.3  0h48m54s  56.98   \n",
      "Telly-6    42.53  66.23     15m10s  33.28  0h45m30s  59.97   \n",
      "Telly-7    35.44  71.86     14m08s  37.83  0h28m16s  75.13   \n",
      "Telly-8    28.35  77.49     12m59s  42.89  0h25m58s  77.16   \n",
      "Telly-9    21.26  83.12     11m28s  49.56  0h22m56s  79.82   \n",
      "Telly-10   14.18  88.74     10m19s  54.62  0h10m19s  90.92   \n",
      "Telly-11    7.09  94.37     09m14s  59.38  0h09m14s  91.88   \n",
      "\n",
      "                                                              Performance  \\\n",
      "Base      {'bleu': 19.15, 'meteor': 17.26, 'rouge': 41.51, 'cider': 1.54}   \n",
      "Telly-0    {'meteor': 17.32, 'rouge': 41.5, 'cider': 1.53, 'bleu': 19.19}   \n",
      "Telly-1   {'meteor': 17.33, 'rouge': 41.57, 'cider': 1.54, 'bleu': 19.21}   \n",
      "Telly-2    {'meteor': 17.3, 'rouge': 41.51, 'cider': 1.54, 'bleu': 19.17}   \n",
      "Telly-3    {'meteor': 17.26, 'rouge': 41.5, 'cider': 1.54, 'bleu': 19.16}   \n",
      "Telly-4   {'meteor': 17.26, 'rouge': 41.53, 'cider': 1.54, 'bleu': 19.13}   \n",
      "Telly-5   {'meteor': 17.26, 'rouge': 41.55, 'cider': 1.54, 'bleu': 19.18}   \n",
      "Telly-6   {'meteor': 17.35, 'rouge': 41.78, 'cider': 1.56, 'bleu': 19.36}   \n",
      "Telly-7   {'meteor': 17.28, 'rouge': 41.74, 'cider': 1.56, 'bleu': 19.37}   \n",
      "Telly-8   {'meteor': 17.26, 'rouge': 41.69, 'cider': 1.55, 'bleu': 19.34}   \n",
      "Telly-9   {'meteor': 17.22, 'rouge': 41.33, 'cider': 1.53, 'bleu': 19.18}   \n",
      "Telly-10  {'meteor': 17.18, 'rouge': 41.23, 'cider': 1.53, 'bleu': 19.11}   \n",
      "Telly-11    {'meteor': 17.2, 'rouge': 41.27, 'cider': 1.53, 'bleu': 19.1}   \n",
      "\n",
      "                                                                    Ratio  \n",
      "Base             {'bleu': 0.0, 'meteor': 0.0, 'rouge': 0.0, 'cider': 0.0}  \n",
      "Telly-0    {'meteor': -0.35, 'rouge': 0.02, 'cider': 0.65, 'bleu': -0.21}  \n",
      "Telly-1    {'meteor': -0.41, 'rouge': -0.14, 'cider': 0.0, 'bleu': -0.31}  \n",
      "Telly-2       {'meteor': -0.23, 'rouge': 0.0, 'cider': 0.0, 'bleu': -0.1}  \n",
      "Telly-3       {'meteor': 0.0, 'rouge': 0.02, 'cider': 0.0, 'bleu': -0.05}  \n",
      "Telly-4        {'meteor': 0.0, 'rouge': -0.05, 'cider': 0.0, 'bleu': 0.1}  \n",
      "Telly-5       {'meteor': 0.0, 'rouge': -0.1, 'cider': 0.0, 'bleu': -0.16}  \n",
      "Telly-6    {'meteor': -0.52, 'rouge': -0.65, 'cider': -1.3, 'bleu': -1.1}  \n",
      "Telly-7   {'meteor': -0.12, 'rouge': -0.55, 'cider': -1.3, 'bleu': -1.15}  \n",
      "Telly-8    {'meteor': 0.0, 'rouge': -0.43, 'cider': -0.65, 'bleu': -0.99}  \n",
      "Telly-9     {'meteor': 0.23, 'rouge': 0.43, 'cider': 0.65, 'bleu': -0.16}  \n",
      "Telly-10     {'meteor': 0.46, 'rouge': 0.67, 'cider': 0.65, 'bleu': 0.21}  \n",
      "Telly-11     {'meteor': 0.35, 'rouge': 0.58, 'cider': 0.65, 'bleu': 0.26}  \n"
     ]
    }
   ],
   "source": [
    "\n",
    "classifier_number = 0\n",
    "task = \"code-summarization\"\n",
    "result ={}\n",
    "count_parameter()\n",
    "count_parameter_change_ratio()\n",
    "data_dir=\"../DownstreamTasks/%s/times\"%task\n",
    "process_data(data_dir)\n",
    "lang=\"python\"\n",
    "root_path = \"../DownstreamTasks/%s/saved_models/partial_freezing\"%task\n",
    "process_peformance(root_path,lang)\n",
    "result_df = pd.DataFrame(result).T\n",
    "result_df.columns = ['Param', 'Ratio', 'Each Epoch', 'Ratio', 'Coverage','Ratio', 'Performance', 'Ratio']\n",
    "model_variants =[\"Telly-%s\"%item for item in result.keys()]\n",
    "model_variants[0] = \"Base\"\n",
    "result_df.index= model_variants\n",
    "print(result_df)"
   ]
  },
  {
   "cell_type": "markdown",
   "id": "a08d7926",
   "metadata": {},
   "source": [
    "## Code Generation"
   ]
  },
  {
   "cell_type": "code",
   "execution_count": 23,
   "id": "80232979",
   "metadata": {
    "ExecuteTime": {
     "end_time": "2022-11-14T11:23:14.231271Z",
     "start_time": "2022-11-14T11:23:12.543901Z"
    }
   },
   "outputs": [
    {
     "name": "stdout",
     "output_type": "stream",
     "text": [
      "           Param  Ratio Each Epoch  Ratio  Coverage  Ratio  \\\n",
      "Base      125.93    0.0     12m25s    0.0  4h08m20s    0.0   \n",
      "Telly-0    85.05  32.46     11m43s   5.64  3h42m37s  10.36   \n",
      "Telly-1    77.97  38.08     11m07s  10.47  3h20m06s  19.42   \n",
      "Telly-2    70.88  43.71     10m32s  15.17  2h06m24s   49.1   \n",
      "Telly-3    63.79  49.34     09m52s  20.54  2h08m16s  48.35   \n",
      "Telly-4     56.7  54.97     09m15s   25.5  1h51m00s   55.3   \n",
      "Telly-5    49.62   60.6     08m44s  29.66  1h53m32s  54.28   \n",
      "Telly-6    42.53  66.23     08m13s  33.83  1h46m49s  56.99   \n",
      "Telly-7    35.44  71.86     07m41s  38.12  1h39m53s  59.78   \n",
      "Telly-8    28.35  77.49     07m08s  42.55  1h32m44s  62.66   \n",
      "Telly-9    21.26  83.12     06m42s  46.04  1h27m06s  64.93   \n",
      "Telly-10   14.18  88.74     06m03s  51.28  1h12m36s  70.77   \n",
      "Telly-11    7.09  94.37     05m22s  56.78  1h09m46s  71.91   \n",
      "\n",
      "                          Performance                         Ratio  \n",
      "Base      {'BLEU': 33.82, 'EM': 17.4}      {'BLEU': 0.0, 'EM': 0.0}  \n",
      "Telly-0   {'BLEU': 33.88, 'EM': 18.1}  {'BLEU': -0.18, 'EM': -4.02}  \n",
      "Telly-1   {'BLEU': 34.43, 'EM': 17.9}   {'BLEU': -1.8, 'EM': -2.87}  \n",
      "Telly-2   {'BLEU': 33.85, 'EM': 19.1}  {'BLEU': -0.09, 'EM': -9.77}  \n",
      "Telly-3   {'BLEU': 34.24, 'EM': 19.0}   {'BLEU': -1.24, 'EM': -9.2}  \n",
      "Telly-4   {'BLEU': 34.02, 'EM': 18.6}   {'BLEU': -0.59, 'EM': -6.9}  \n",
      "Telly-5   {'BLEU': 34.36, 'EM': 18.6}    {'BLEU': -1.6, 'EM': -6.9}  \n",
      "Telly-6    {'BLEU': 32.9, 'EM': 18.1}   {'BLEU': 2.72, 'EM': -4.02}  \n",
      "Telly-7   {'BLEU': 32.92, 'EM': 18.0}   {'BLEU': 2.66, 'EM': -3.45}  \n",
      "Telly-8   {'BLEU': 32.12, 'EM': 17.4}     {'BLEU': 5.03, 'EM': 0.0}  \n",
      "Telly-9   {'BLEU': 31.33, 'EM': 18.1}   {'BLEU': 7.36, 'EM': -4.02}  \n",
      "Telly-10  {'BLEU': 30.43, 'EM': 16.6}    {'BLEU': 10.02, 'EM': 4.6}  \n",
      "Telly-11  {'BLEU': 27.71, 'EM': 14.3}  {'BLEU': 18.07, 'EM': 17.82}  \n"
     ]
    }
   ],
   "source": [
    "\n",
    "classifier_number = 0\n",
    "task = \"code-generation\"\n",
    "result ={}\n",
    "count_parameter()\n",
    "count_parameter_change_ratio()\n",
    "data_dir=\"../DownstreamTasks/%s/times\"%task\n",
    "process_data(data_dir)\n",
    "lang=None\n",
    "root_path = \"../DownstreamTasks/%s/saved_models/partial_freezing\"%task\n",
    "process_peformance(root_path,lang)\n",
    "result_df = pd.DataFrame(result).T\n",
    "result_df.columns = ['Param', 'Ratio', 'Each Epoch', 'Ratio', 'Coverage','Ratio', 'Performance', 'Ratio']\n",
    "model_variants =[\"Telly-%s\"%item for item in result.keys()]\n",
    "model_variants[0] = \"Base\"\n",
    "result_df.index= model_variants\n",
    "print(result_df)"
   ]
  },
  {
   "cell_type": "markdown",
   "id": "4d09c44b",
   "metadata": {},
   "source": [
    "## Code Completion"
   ]
  },
  {
   "cell_type": "code",
   "execution_count": 24,
   "id": "77e18e27",
   "metadata": {
    "ExecuteTime": {
     "end_time": "2022-11-14T11:23:15.900158Z",
     "start_time": "2022-11-14T11:23:14.233122Z"
    }
   },
   "outputs": [
    {
     "name": "stdout",
     "output_type": "stream",
     "text": [
      "           Param  Ratio Each Epoch  Ratio  Coverage  Ratio  \\\n",
      "Base      125.93    0.0     04m12s    0.0  0h37m48s    0.0   \n",
      "Telly-0    85.05  32.46     03m59s   5.16  0h31m52s   15.7   \n",
      "Telly-1    77.97  38.08     03m47s   9.92  0h18m55s  49.96   \n",
      "Telly-2    70.88  43.71     03m38s  13.49  0h32m42s  13.49   \n",
      "Telly-3    63.79  49.34     03m29s  17.06  0h20m54s  44.71   \n",
      "Telly-4     56.7  54.97     03m18s  21.43  0h26m24s  30.16   \n",
      "Telly-5    49.62   60.6     03m07s  25.79  0h09m21s  75.26   \n",
      "Telly-6    42.53  66.23     02m57s  29.76  0h11m48s  68.78   \n",
      "Telly-7    35.44  71.86     02m48s  33.33  0h14m00s  62.96   \n",
      "Telly-8    28.35  77.49     02m39s   36.9  0h13m15s  64.95   \n",
      "Telly-9    21.26  83.12     02m28s  41.27  0h12m20s  67.37   \n",
      "Telly-10   14.18  88.74     02m17s  45.63  0h09m08s  75.84   \n",
      "Telly-11    7.09  94.37     02m06s   50.0  0h06m18s  83.33   \n",
      "\n",
      "                               Performance                             Ratio  \n",
      "Base       {'EM': 20.4, 'Edit sim': 51.92}      {'EM': 0.0, 'Edit sim': 0.0}  \n",
      "Telly-0   {'EM': 21.07, 'Edit sim': 52.58}  {'EM': -3.28, 'Edit sim': -1.27}  \n",
      "Telly-1   {'EM': 20.87, 'Edit sim': 52.35}   {'EM': -2.3, 'Edit sim': -0.83}  \n",
      "Telly-2   {'EM': 20.93, 'Edit sim': 52.31}   {'EM': -2.6, 'Edit sim': -0.75}  \n",
      "Telly-3   {'EM': 20.73, 'Edit sim': 51.81}   {'EM': -1.62, 'Edit sim': 0.21}  \n",
      "Telly-4   {'EM': 20.27, 'Edit sim': 51.62}    {'EM': 0.64, 'Edit sim': 0.58}  \n",
      "Telly-5    {'EM': 20.4, 'Edit sim': 51.66}      {'EM': 0.0, 'Edit sim': 0.5}  \n",
      "Telly-6   {'EM': 20.27, 'Edit sim': 51.36}    {'EM': 0.64, 'Edit sim': 1.08}  \n",
      "Telly-7    {'EM': 20.4, 'Edit sim': 51.32}     {'EM': 0.0, 'Edit sim': 1.16}  \n",
      "Telly-8   {'EM': 20.27, 'Edit sim': 50.95}    {'EM': 0.64, 'Edit sim': 1.87}  \n",
      "Telly-9   {'EM': 20.73, 'Edit sim': 51.13}   {'EM': -1.62, 'Edit sim': 1.52}  \n",
      "Telly-10   {'EM': 20.53, 'Edit sim': 50.7}   {'EM': -0.64, 'Edit sim': 2.35}  \n",
      "Telly-11  {'EM': 19.67, 'Edit sim': 49.49}    {'EM': 3.58, 'Edit sim': 4.68}  \n"
     ]
    }
   ],
   "source": [
    "\n",
    "classifier_number = 0\n",
    "task = \"code-completion\"\n",
    "result ={}\n",
    "count_parameter()\n",
    "count_parameter_change_ratio()\n",
    "data_dir=\"../DownstreamTasks/%s/times\"%task\n",
    "process_data(data_dir)\n",
    "lang=None\n",
    "root_path = \"../DownstreamTasks/%s/saved_models/partial_freezing\"%task\n",
    "process_peformance(root_path,lang)\n",
    "result_df = pd.DataFrame(result).T\n",
    "result_df.columns = ['Param', 'Ratio', 'Each Epoch', 'Ratio', 'Coverage','Ratio', 'Performance', 'Ratio']\n",
    "model_variants =[\"Telly-%s\"%item for item in result.keys()]\n",
    "model_variants[0] = \"Base\"\n",
    "result_df.index= model_variants\n",
    "print(result_df)"
   ]
  },
  {
   "cell_type": "code",
   "execution_count": null,
   "id": "d8ea1892",
   "metadata": {},
   "outputs": [],
   "source": []
  }
 ],
 "metadata": {
  "kernelspec": {
   "display_name": "Python 3 (ipykernel)",
   "language": "python",
   "name": "python3"
  },
  "language_info": {
   "codemirror_mode": {
    "name": "ipython",
    "version": 3
   },
   "file_extension": ".py",
   "mimetype": "text/x-python",
   "name": "python",
   "nbconvert_exporter": "python",
   "pygments_lexer": "ipython3",
   "version": "3.9.12"
  },
  "toc": {
   "base_numbering": 1,
   "nav_menu": {},
   "number_sections": true,
   "sideBar": true,
   "skip_h1_title": false,
   "title_cell": "Table of Contents",
   "title_sidebar": "Contents",
   "toc_cell": false,
   "toc_position": {
    "height": "calc(100% - 180px)",
    "left": "10px",
    "top": "150px",
    "width": "349.091px"
   },
   "toc_section_display": true,
   "toc_window_display": true
  }
 },
 "nbformat": 4,
 "nbformat_minor": 5
}
