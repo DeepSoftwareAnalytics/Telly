{
 "cells": [
  {
   "cell_type": "code",
   "execution_count": 1,
   "id": "9d10eec4",
   "metadata": {
    "ExecuteTime": {
     "end_time": "2023-04-09T07:23:48.701008Z",
     "start_time": "2023-04-09T07:23:48.026252Z"
    }
   },
   "outputs": [],
   "source": [
    "import numpy as np\n",
    "import matplotlib.pyplot as plt\n",
    "import json\n",
    "import os\n",
    "import numpy as np\n",
    "import prettytable as pt\n",
    "import pprint\n",
    "def read_json_file(filename):\n",
    "    with open(filename, 'r') as fp:\n",
    "        data = fp.readlines()\n",
    "    if len(data) == 1:\n",
    "        data = json.loads(data[0])\n",
    "    else:\n",
    "        data = [json.loads(line) for line in data]\n",
    "    return data \n",
    "\n",
    "\n",
    "def get_result(root_path):\n",
    "\n",
    "    time_stamp = os.listdir(root_path)[0]\n",
    "    result_filename = os.path.join(root_path, time_stamp, \"result.jsonl\" )\n",
    "    data = read_json_file(result_filename)\n",
    "    return data\n",
    "\n",
    "def get_differen_bleu(result):\n",
    "    all_bleu = {key:round(value, 2) for key, value in result.items()}\n",
    "    tb = pt.PrettyTable()\n",
    "    tb.field_names = all_bleu.keys()\n",
    "    tb.add_row(all_bleu.values())\n",
    "    print(tb)"
   ]
  },
  {
   "cell_type": "markdown",
   "id": "9416306b",
   "metadata": {},
   "source": [
    "## Load results"
   ]
  },
  {
   "cell_type": "code",
   "execution_count": 2,
   "id": "ee582646",
   "metadata": {
    "ExecuteTime": {
     "end_time": "2023-04-09T07:23:50.883356Z",
     "start_time": "2023-04-09T07:23:50.774050Z"
    }
   },
   "outputs": [],
   "source": [
    "probings_types = [\"lexical_probing\",\"syntax_probing\",\"semantic_probing\",\"structure_probing\"]\n",
    "model_names = [\"microsoft/unixcoder-base\", \"Enoch/Unixcoder-Tuned-Code-Search-Py\", \"random\"]\n",
    "paper_probing_type={\"lexical_probing\":\"Lexical probing\",\"syntax_probing\":\"Syntactic probing\",\"semantic_probing\":\"Semantic probing\",\"structure_probing\":\"Structure probing\"}\n",
    "all_results = {}\n",
    "for probing_type in probings_types:\n",
    "    all_results [probing_type] = {}\n",
    "    for model_name in model_names:\n",
    "        root_path = \"../Probing/%s/saved_models/%s/%s/weighted-layer-wise\"%(probing_type,probing_type,model_name)\n",
    "        all_results [probing_type][model_name] = get_result(root_path,)"
   ]
  },
  {
   "cell_type": "markdown",
   "id": "8f2f26c9",
   "metadata": {},
   "source": [
    "## Obtain the performance"
   ]
  },
  {
   "cell_type": "code",
   "execution_count": 3,
   "id": "135c0f33",
   "metadata": {
    "ExecuteTime": {
     "end_time": "2023-04-09T07:23:52.498556Z",
     "start_time": "2023-04-09T07:23:52.477883Z"
    }
   },
   "outputs": [
    {
     "name": "stdout",
     "output_type": "stream",
     "text": [
      "**************************************************\n",
      "Lexical probing\n",
      "+--------+-------------+------------+\n",
      "| random | pre-trained | fine-tuned |\n",
      "+--------+-------------+------------+\n",
      "| 76.14  |    99.98    |   99.95    |\n",
      "+--------+-------------+------------+\n",
      "**************************************************\n",
      "Syntactic probing\n",
      "+--------+-------------+------------+\n",
      "| random | pre-trained | fine-tuned |\n",
      "+--------+-------------+------------+\n",
      "|  0.65  |     0.96    |    0.95    |\n",
      "+--------+-------------+------------+\n",
      "**************************************************\n",
      "Semantic probing\n",
      "+--------+-------------+------------+\n",
      "| random | pre-trained | fine-tuned |\n",
      "+--------+-------------+------------+\n",
      "| 46.09  |    70.93    |   71.55    |\n",
      "+--------+-------------+------------+\n",
      "**************************************************\n",
      "Structure probing\n",
      "+--------+-------------+------------+\n",
      "| random | pre-trained | fine-tuned |\n",
      "+--------+-------------+------------+\n",
      "|  34.8  |     29.7    |    62.2    |\n",
      "+--------+-------------+------------+\n",
      "**************************************************\n"
     ]
    }
   ],
   "source": [
    "performances = {}\n",
    "for probing_type in probings_types:\n",
    "    performances[paper_probing_type[probing_type]] = {}\n",
    "    for model_name in  [\"random\",\"microsoft/unixcoder-base\", \"Enoch/Unixcoder-Tuned-Code-Search-Py\"]:\n",
    "        if model_name  == \"microsoft/unixcoder-base\":\n",
    "            paper_model_name = \"pre-trained\"\n",
    "        if model_name  == \"Enoch/Unixcoder-Tuned-Code-Search-Py\":\n",
    "            paper_model_name = \"fine-tuned\"\n",
    "        if model_name  == \"random\":\n",
    "            paper_model_name = \"random\"\n",
    "        if probing_type in ['semantic_probing']:\n",
    "            performances [paper_probing_type[probing_type]][paper_model_name] = all_results [probing_type][model_name]['eval_map']\n",
    "        else:\n",
    "            performances [paper_probing_type[probing_type]][paper_model_name] = all_results [probing_type][model_name]['acc']\n",
    "for probing_type in probings_types:\n",
    "    print(50*\"*\")\n",
    "    print(paper_probing_type[probing_type])\n",
    "    get_differen_bleu( performances [ paper_probing_type[probing_type]])\n",
    "print(50*\"*\")"
   ]
  },
  {
   "cell_type": "markdown",
   "id": "97ca7c55",
   "metadata": {},
   "source": [
    "## Obtain the layer-wise weigths"
   ]
  },
  {
   "cell_type": "code",
   "execution_count": 4,
   "id": "5ffea806",
   "metadata": {
    "ExecuteTime": {
     "end_time": "2023-04-09T07:23:54.563709Z",
     "start_time": "2023-04-09T07:23:54.551232Z"
    }
   },
   "outputs": [],
   "source": [
    "i=0\n",
    "pre_train_lexical_probing =   all_results[probings_types[0]][model_names [0]]['layer_weights']\n",
    "pre_train_syntax_probing = all_results[probings_types[1]][model_names [0]]['layer_weights']\n",
    "pre_train_semantic_probing =  all_results[probings_types[2]][model_names [0]]['layer_weights']\n",
    "pre_train_structure_probing = all_results[probings_types[3]][model_names [0]]['layer_weights']\n",
    "\n",
    "fine_tune_lexical_probing =  all_results[probings_types[0]][model_names [1]]['layer_weights']\n",
    "fine_tune_syntax_probing = all_results[probings_types[1]][model_names [1]]['layer_weights']\n",
    "fine_tune_semantic_probing =  all_results[probings_types[2]][model_names [1]]['layer_weights']\n",
    "fine_tune_structure_probing = all_results[probings_types[3]][model_names [1]]['layer_weights']\n"
   ]
  },
  {
   "cell_type": "markdown",
   "id": "edab02b8",
   "metadata": {},
   "source": [
    "## Visualize  layer-wise weigths"
   ]
  },
  {
   "cell_type": "code",
   "execution_count": 6,
   "id": "c8401b99",
   "metadata": {
    "ExecuteTime": {
     "end_time": "2023-04-09T07:24:20.147303Z",
     "start_time": "2023-04-09T07:24:19.540238Z"
    }
   },
   "outputs": [
    {
     "data": {
      "image/png": "[encoded data removed]",
      "text/plain": [
       "<Figure size 576x720 with 1 Axes>"
      ]
     },
     "metadata": {
      "needs_background": "light"
     },
     "output_type": "display_data"
    }
   ],
   "source": [
    " os.makedirs(\"figures\",exist_ok=True)\n",
    "fontsize=14\n",
    "ratio_fontsize=13\n",
    "x = np.arange(13)\n",
    "plt.figure(figsize=(8, 10))\n",
    "\n",
    "gaps=[ 2,  6,  10, 14,17.2]\n",
    "# lexical\n",
    "pre_fine_string = [\"Pre-trained\",\"Fine-tuned\"]\n",
    "probing =lexical_probing= [pre_train_lexical_probing,fine_tune_lexical_probing ]\n",
    "i=0\n",
    "g=-2\n",
    "delta=0.8\n",
    "plt.bar(x, np.array(lexical_probing[i])+0.02, bottom =[gaps[g] +delta] *13, color = '#5E96E9', width =0.95,label=pre_fine_string[0])\n",
    "plt.bar(x, -np.array(lexical_probing[i])-0.02, bottom =[gaps[g] +delta] *13, color = '#5E96E9', width =0.95)\n",
    "\n",
    "i=1\n",
    "plt.bar(x, np.array(lexical_probing[i])+0.02, bottom =[gaps[g] -delta] *13, color = '#E17979', width =0.95,label=pre_fine_string[1])\n",
    "plt.bar(x, -np.array(lexical_probing[i])-0.02, bottom =[gaps[g] -delta] *13, color = '#E17979', width =0.95)\n",
    "\n",
    "plt.fill_between(np.arange(-1,14), gaps[g] -delta-.5, gaps[g] +2, facecolor='gray', alpha=0.1)\n",
    "\n",
    "# syntax\n",
    "g=-3\n",
    "probing = syntax_probing= [pre_train_syntax_probing,fine_tune_syntax_probing ]\n",
    "i=0\n",
    "plt.bar(x, np.array(syntax_probing[i])*1.5+0.05, bottom =[gaps[g] +delta] *13, color = '#5E96E9', width =0.95)\n",
    "plt.bar(x, -np.array(syntax_probing[i])*1.5-0.05, bottom =[gaps[g] +delta] *13, color = '#5E96E9', width =0.95)\n",
    "\n",
    "i=1\n",
    "plt.bar(x, np.array(syntax_probing[i])*1.5+0.05, bottom =[gaps[g] -delta] *13, color = '#E17979', width =0.95)\n",
    "plt.bar(x, -np.array(syntax_probing[i])*1.5-0.05, bottom =[gaps[g] -delta] *13, color = '#E17979', width =0.95)\n",
    "\n",
    "# for a,b in zip(x, np.array(syntax_probing[i])*1.5+0.05):\n",
    "#     plt.text(a,b+gaps[g] -delta, get_round_2(probing[i][a]), ha='center', va= 'bottom',fontsize=ratio_fontsize,rotation=25)\n",
    "\n",
    "plt.fill_between(np.arange(-1,14), gaps[g] -delta-.5, gaps[g] +2, facecolor='gray', alpha=0.1)\n",
    "\n",
    "\n",
    "# # semantic\n",
    "g=-4\n",
    "probing= semantic_probing= [pre_train_semantic_probing,fine_tune_semantic_probing ]\n",
    "i=0\n",
    "plt.bar(x, np.array(semantic_probing[i])*1.5+0.05, bottom =[gaps[g] + delta] *13, color = '#5E96E9', width =0.95)\n",
    "plt.bar(x, -np.array(semantic_probing[i])*1.5-0.05, bottom =[gaps[g] + delta] *13, color = '#5E96E9', width =0.95)\n",
    "\n",
    "i=1\n",
    "plt.bar(x, np.array(semantic_probing[i])*1.5+0.05, bottom =[gaps[g] -delta] *13, color = '#E17979', width =0.95)\n",
    "plt.bar(x, -np.array(semantic_probing[i])*1.5-0.05, bottom =[gaps[g] -delta] *13, color = '#E17979', width =0.95)\n",
    "\n",
    "plt.fill_between(np.arange(-1,14), gaps[g] -delta-.5, gaps[g] +2, facecolor='gray', alpha=0.1)\n",
    "\n",
    "# structure\n",
    "g=-5\n",
    "probing= [pre_train_structure_probing,fine_tune_structure_probing ]\n",
    "i=0\n",
    "plt.bar(x, np.array(probing[i])*1.5+0.05, bottom =[gaps[g] + delta] *13, color = '#5E96E9', width =0.95)\n",
    "plt.bar(x, -np.array(probing[i])*1.5-0.05, bottom =[gaps[g] + delta] *13, color = '#5E96E9', width =0.95)\n",
    "\n",
    "i=1\n",
    "plt.bar(x, np.array(probing[i])+0.05, bottom =[gaps[g] -delta] *13, color = '#E17979', width =0.95)\n",
    "plt.bar(x, -np.array(probing[i])-0.05, bottom =[gaps[g] -delta] *13, color = '#E17979', width =0.95)\n",
    "\n",
    "plt.fill_between(np.arange(-1,14), gaps[g] -delta-.5, gaps[g] +2, facecolor='gray', alpha=0.1)   \n",
    "\n",
    "plt.xlabel(\"Different Layer\", fontsize=fontsize)\n",
    "\n",
    "\n",
    "plt.yticks(gaps, [\"Structure\\n Probing\",  \"Semantic\\n Probing\",\"Syntactic\\n Probing\", \"Lexical\\n Probing\", \"\"],fontsize=fontsize)\n",
    "plt.xlim(xmin = -0.5, xmax = 13)\n",
    "plt.ylim(ymin = gaps[0] -delta-.9, ymax = gaps[-1])\n",
    "plt.xticks(x,x, fontsize=fontsize)\n",
    "\n",
    "# grid\n",
    "plt.grid( axis='x', linewidth = 0.5,alpha=0.2,color =\"black\", linestyle = '--',)\n",
    "\n",
    "figure_name=\"figures/probing_weight.pdf\"\n",
    "\n",
    "plt.legend(loc=\"upper right\",ncol=2,fontsize=fontsize)\n",
    "plt.savefig(figure_name,dpi=600,format=\"pdf\", bbox_inches='tight')"
   ]
  },
  {
   "cell_type": "code",
   "execution_count": null,
   "id": "20cf7f45",
   "metadata": {},
   "outputs": [],
   "source": []
  }
 ],
 "metadata": {
  "kernelspec": {
   "display_name": "Python 3 (ipykernel)",
   "language": "python",
   "name": "python3"
  },
  "language_info": {
   "codemirror_mode": {
    "name": "ipython",
    "version": 3
   },
   "file_extension": ".py",
   "mimetype": "text/x-python",
   "name": "python",
   "nbconvert_exporter": "python",
   "pygments_lexer": "ipython3",
   "version": "3.9.12"
  },
  "toc": {
   "base_numbering": 1,
   "nav_menu": {},
   "number_sections": true,
   "sideBar": true,
   "skip_h1_title": false,
   "title_cell": "Table of Contents",
   "title_sidebar": "Contents",
   "toc_cell": false,
   "toc_position": {
    "height": "802.727px",
    "left": "86px",
    "top": "111.051px",
    "width": "349.091px"
   },
   "toc_section_display": true,
   "toc_window_display": true
  }
 },
 "nbformat": 4,
 "nbformat_minor": 5
}
